{
 "cells": [
  {
   "cell_type": "code",
   "execution_count": 1,
   "metadata": {},
   "outputs": [],
   "source": [
    "import cerberus, yaml"
   ]
  },
  {
   "cell_type": "code",
   "execution_count": 10,
   "metadata": {},
   "outputs": [],
   "source": [
    "test_yml = yaml.safe_load(open('configs/debug_configs/test_metals.yml'))"
   ]
  },
  {
   "cell_type": "code",
   "execution_count": null,
   "metadata": {},
   "outputs": [],
   "source": [
    "schema = {\n",
    "    {'memory_cache_location': 'type':'string'},\n",
    "    {'input_options': {'bulk_file': }}\n",
    "    {'output_options': {}}\n",
    "}"
   ]
  },
  {
   "cell_type": "code",
   "execution_count": 11,
   "metadata": {},
   "outputs": [
    {
     "data": {
      "text/plain": [
       "{'dask': {'partitions': -1},\n",
       " 'memory_cache_location': '/home/jovyan/shared-scratch/catlas/cache_github',\n",
       " 'output_options': {'pickle_path': 'test_kube_cluster_output.pkl',\n",
       "  'config_path': 'test_kube_cluster_output.yml',\n",
       "  'verbose': False},\n",
       " 'bulk_filters': {'filter_by_mpids': ['mp-126', 'mp-30', 'mp-101']},\n",
       " 'adsorbate_filters': {'filter_by_smiles': ['*H']},\n",
       " 'slab_filters': {'filter_by_object_size': 100,\n",
       "  'filter_by_max_miller_index': 1},\n",
       " 'adslab_prediction_steps': [{'step': 'predict',\n",
       "   'type': 'direct',\n",
       "   'gpu': False,\n",
       "   'batch_size': 4,\n",
       "   'label': 'dE_gemnet_is2re_finetuned',\n",
       "   'checkpoint_path': 'configs/ocp_config_checkpoints/gemnet-is2re-finetuned-11-01.pt'}]}"
      ]
     },
     "execution_count": 11,
     "metadata": {},
     "output_type": "execute_result"
    }
   ],
   "source": [
    "test_yml\n"
   ]
  },
  {
   "cell_type": "code",
   "execution_count": null,
   "metadata": {},
   "outputs": [],
   "source": []
  }
 ],
 "metadata": {
  "interpreter": {
   "hash": "d4d1e4263499bec80672ea0156c357c1ee493ec2b1c70f0acce89fc37c4a6abe"
  },
  "kernelspec": {
   "display_name": "Python 3.8.10 ('base')",
   "language": "python",
   "name": "python3"
  },
  "language_info": {
   "codemirror_mode": {
    "name": "ipython",
    "version": 3
   },
   "file_extension": ".py",
   "mimetype": "text/x-python",
   "name": "python",
   "nbconvert_exporter": "python",
   "pygments_lexer": "ipython3",
   "version": "3.8.10"
  },
  "orig_nbformat": 4
 },
 "nbformat": 4,
 "nbformat_minor": 2
}
